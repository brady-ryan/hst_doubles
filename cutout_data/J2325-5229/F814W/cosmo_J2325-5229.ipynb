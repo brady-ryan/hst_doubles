{
 "cells": [
  {
   "cell_type": "code",
   "execution_count": 1,
   "id": "ba4f4776",
   "metadata": {
    "execution": {
     "iopub.execute_input": "2025-05-02T00:28:39.723499Z",
     "iopub.status.busy": "2025-05-02T00:28:39.723290Z",
     "iopub.status.idle": "2025-05-02T00:28:39.725846Z",
     "shell.execute_reply": "2025-05-02T00:28:39.725519Z"
    },
    "papermill": {
     "duration": 0.006741,
     "end_time": "2025-05-02T00:28:39.726776",
     "exception": false,
     "start_time": "2025-05-02T00:28:39.720035",
     "status": "completed"
    },
    "tags": [
     "injected-parameters"
    ]
   },
   "outputs": [],
   "source": [
    "# Parameters\n",
    "name = \"J2325-5229\"\n",
    "z_lens = 0.4\n",
    "z_source = 2.739\n"
   ]
  },
  {
   "cell_type": "code",
   "execution_count": 2,
   "id": "cc3d644b-e971-457a-be1b-db92e703e82e",
   "metadata": {
    "execution": {
     "iopub.execute_input": "2025-05-02T00:28:39.729862Z",
     "iopub.status.busy": "2025-05-02T00:28:39.729676Z",
     "iopub.status.idle": "2025-05-02T00:28:53.507390Z",
     "shell.execute_reply": "2025-05-02T00:28:53.506575Z"
    },
    "papermill": {
     "duration": 13.780186,
     "end_time": "2025-05-02T00:28:53.508383",
     "exception": false,
     "start_time": "2025-05-02T00:28:39.728197",
     "status": "completed"
    },
    "tags": []
   },
   "outputs": [],
   "source": [
    "import pickle\n",
    "from lenstronomy.Plots.model_plot import ModelPlot\n",
    "from lenstronomy.Plots import chain_plot\n",
    "from lenstronomy.Workflow.fitting_sequence import FittingSequence\n",
    "import h5py\n",
    "import corner\n",
    "import numpy as np\n",
    "\n",
    "filter = \"F814W\"\n",
    "filename = f\"../hst_doubles/cutout_data/{name}/{filter}/{name}_{filter}.pkl\"\n",
    "\n",
    "# load the saved data\n",
    "with open(filename, \"rb\") as f:\n",
    "    loaded_data = pickle.load(f)\n",
    "\n",
    "kwargs_result = loaded_data[\"kwargs_result\"]\n",
    "kwargs_model = loaded_data[\"kwargs_model\"]\n",
    "chain_list = loaded_data.get('chain_list')\n",
    "kwargs_constraints = loaded_data.get(\"kwargs_constraints\", None)\n",
    "\n",
    "\n",
    "kwargs_lens = kwargs_result['kwargs_lens']\n",
    "kwargs_ps = kwargs_result['kwargs_ps']\n",
    "\n",
    "from astropy.cosmology import FlatLambdaCDM\n",
    "cosmo = FlatLambdaCDM(H0=70, Om0=0.3, Ob0=0.)\n",
    "\n",
    "from lenstronomy.Analysis.td_cosmography import TDCosmography\n",
    "td_cosmo = TDCosmography(z_lens, z_source, kwargs_model, cosmo_fiducial=cosmo)\n",
    "\n",
    "sampler_type, samples_mcmc, param_mcmc, dist_mcmc  = chain_list[1]\n",
    "\n",
    "# import the parameter handling class #\n",
    "from lenstronomy.Sampling.parameters import Param\n",
    "# make instance of parameter class with given model options, constraints and fixed parameters #\n",
    "\n",
    "param = Param(kwargs_model, kwargs_fixed_lens=[{'gamma': 2}, {'ra_0': 0, 'dec_0': 0}],\n",
    "               kwargs_fixed_lens_light=[{}], kwargs_fixed_source=[{}], kwargs_fixed_ps=[{}], **kwargs_constraints)"
   ]
  },
  {
   "cell_type": "code",
   "execution_count": 3,
   "id": "3fd2f7fd-1f5c-430b-9a04-b78fb1bd5bfc",
   "metadata": {
    "execution": {
     "iopub.execute_input": "2025-05-02T00:28:53.513419Z",
     "iopub.status.busy": "2025-05-02T00:28:53.513044Z",
     "iopub.status.idle": "2025-05-02T00:31:48.322762Z",
     "shell.execute_reply": "2025-05-02T00:31:48.322389Z"
    },
    "papermill": {
     "duration": 174.817507,
     "end_time": "2025-05-02T00:31:48.328804",
     "exception": false,
     "start_time": "2025-05-02T00:28:53.511297",
     "status": "completed"
    },
    "tags": []
   },
   "outputs": [
    {
     "data": {
      "image/png": "[encoded data removed]",
      "text/plain": [
       "<Figure size 550x550 with 4 Axes>"
      ]
     },
     "metadata": {},
     "output_type": "display_data"
    }
   ],
   "source": [
    "import numpy as np\n",
    "import corner\n",
    "\n",
    "dphi_list = []\n",
    "dt_list = []\n",
    "mcmc_new_list = []\n",
    "labels_new = [r\"$\\Delta \\Phi_{AB}$\", r\"$\\Delta t_{AB}$\"]\n",
    "\n",
    "for i in range(len(samples_mcmc)):\n",
    "    # Convert MCMC sample to kwargs\n",
    "    kwargs_result = param.args2kwargs(samples_mcmc[i])\n",
    "\n",
    "    # Compute Fermat potential\n",
    "    fermat_pot = td_cosmo.fermat_potential(kwargs_result['kwargs_lens'], kwargs_result['kwargs_ps'])\n",
    "    delta_fermat_12 = fermat_pot[0] - fermat_pot[1]\n",
    "\n",
    "    # Compute time delays\n",
    "    t_days = td_cosmo.time_delays(kwargs_result['kwargs_lens'], kwargs_result['kwargs_ps'], kappa_ext=0)\n",
    "    dt = t_days[0] - t_days[1]  # scalar value\n",
    "\n",
    "    # Store values\n",
    "    mcmc_new_list.append([delta_fermat_12, dt])\n",
    "    dphi_list.append(delta_fermat_12)\n",
    "    dt_list.append(dt)\n",
    "\n",
    "# Plot corner plot\n",
    "plot = corner.corner(np.array(mcmc_new_list), labels=labels_new, show_titles=True)"
   ]
  },
  {
   "cell_type": "code",
   "execution_count": 4,
   "id": "a04c8f7a-e89a-4870-8cc2-93370252a142",
   "metadata": {
    "execution": {
     "iopub.execute_input": "2025-05-02T00:31:48.332965Z",
     "iopub.status.busy": "2025-05-02T00:31:48.332692Z",
     "iopub.status.idle": "2025-05-02T00:31:48.372477Z",
     "shell.execute_reply": "2025-05-02T00:31:48.372086Z"
    },
    "papermill": {
     "duration": 0.042978,
     "end_time": "2025-05-02T00:31:48.373432",
     "exception": false,
     "start_time": "2025-05-02T00:31:48.330454",
     "status": "completed"
    },
    "tags": []
   },
   "outputs": [],
   "source": [
    "# save the final products in HDF5 format\n",
    "with h5py.File(f'cutout_data/{name}/{filter}/{name}_{filter}_cosmo.hdf5', 'w') as f:\n",
    "            f.create_dataset('dphi_list', data=np.array(dphi_list))\n",
    "            f.create_dataset('dt_list', data=np.array(dt_list))\n"
   ]
  },
  {
   "cell_type": "code",
   "execution_count": null,
   "id": "fd94e0bf-ca58-4008-a572-862cf2a53eea",
   "metadata": {
    "papermill": {
     "duration": 0.001345,
     "end_time": "2025-05-02T00:31:48.376251",
     "exception": false,
     "start_time": "2025-05-02T00:31:48.374906",
     "status": "completed"
    },
    "tags": []
   },
   "outputs": [],
   "source": []
  }
 ],
 "metadata": {
  "kernelspec": {
   "display_name": "Python 3 (ipykernel)",
   "language": "python",
   "name": "python3"
  },
  "language_info": {
   "codemirror_mode": {
    "name": "ipython",
    "version": 3
   },
   "file_extension": ".py",
   "mimetype": "text/x-python",
   "name": "python",
   "nbconvert_exporter": "python",
   "pygments_lexer": "ipython3",
   "version": "3.12.2"
  },
  "papermill": {
   "default_parameters": {},
   "duration": 193.494425,
   "end_time": "2025-05-02T00:31:49.094084",
   "environment_variables": {},
   "exception": null,
   "input_path": "cosmology.ipynb",
   "output_path": "cutout_data/J2325-5229/F814W/cosmo_J2325-5229.ipynb",
   "parameters": {
    "name": "J2325-5229",
    "z_lens": 0.4,
    "z_source": 2.739
   },
   "start_time": "2025-05-02T00:28:35.599659",
   "version": "2.6.0"
  }
 },
 "nbformat": 4,
 "nbformat_minor": 5
}