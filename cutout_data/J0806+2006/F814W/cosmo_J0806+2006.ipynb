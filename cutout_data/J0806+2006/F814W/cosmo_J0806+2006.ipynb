{
 "cells": [
  {
   "cell_type": "code",
   "execution_count": 1,
   "id": "04d4bf26",
   "metadata": {
    "execution": {
     "iopub.execute_input": "2025-05-02T01:31:49.431569Z",
     "iopub.status.busy": "2025-05-02T01:31:49.431344Z",
     "iopub.status.idle": "2025-05-02T01:31:49.435545Z",
     "shell.execute_reply": "2025-05-02T01:31:49.434994Z"
    },
    "papermill": {
     "duration": 0.013383,
     "end_time": "2025-05-02T01:31:49.437430",
     "exception": false,
     "start_time": "2025-05-02T01:31:49.424047",
     "status": "completed"
    },
    "tags": [
     "injected-parameters"
    ]
   },
   "outputs": [],
   "source": [
    "# Parameters\n",
    "name = \"J0806+2006\"\n",
    "z_lens = 0.573\n",
    "z_source = 1.54\n"
   ]
  },
  {
   "cell_type": "code",
   "execution_count": 2,
   "id": "cc3d644b-e971-457a-be1b-db92e703e82e",
   "metadata": {
    "execution": {
     "iopub.execute_input": "2025-05-02T01:31:49.445557Z",
     "iopub.status.busy": "2025-05-02T01:31:49.444808Z",
     "iopub.status.idle": "2025-05-02T01:32:22.716423Z",
     "shell.execute_reply": "2025-05-02T01:32:22.715198Z"
    },
    "papermill": {
     "duration": 33.277941,
     "end_time": "2025-05-02T01:32:22.719023",
     "exception": false,
     "start_time": "2025-05-02T01:31:49.441082",
     "status": "completed"
    },
    "tags": []
   },
   "outputs": [],
   "source": [
    "import pickle\n",
    "from lenstronomy.Plots.model_plot import ModelPlot\n",
    "from lenstronomy.Plots import chain_plot\n",
    "from lenstronomy.Workflow.fitting_sequence import FittingSequence\n",
    "import h5py\n",
    "import corner\n",
    "import numpy as np\n",
    "\n",
    "filter = \"F814W\"\n",
    "filename = f\"../hst_doubles/cutout_data/{name}/{filter}/{name}_{filter}.pkl\"\n",
    "\n",
    "# load the saved data\n",
    "with open(filename, \"rb\") as f:\n",
    "    loaded_data = pickle.load(f)\n",
    "\n",
    "kwargs_result = loaded_data[\"kwargs_result\"]\n",
    "kwargs_model = loaded_data[\"kwargs_model\"]\n",
    "chain_list = loaded_data.get('chain_list')\n",
    "kwargs_constraints = loaded_data.get(\"kwargs_constraints\", None)\n",
    "\n",
    "\n",
    "kwargs_lens = kwargs_result['kwargs_lens']\n",
    "kwargs_ps = kwargs_result['kwargs_ps']\n",
    "\n",
    "from astropy.cosmology import FlatLambdaCDM\n",
    "cosmo = FlatLambdaCDM(H0=70, Om0=0.3, Ob0=0.)\n",
    "\n",
    "from lenstronomy.Analysis.td_cosmography import TDCosmography\n",
    "td_cosmo = TDCosmography(z_lens, z_source, kwargs_model, cosmo_fiducial=cosmo)\n",
    "\n",
    "sampler_type, samples_mcmc, param_mcmc, dist_mcmc  = chain_list[1]\n",
    "\n",
    "# import the parameter handling class #\n",
    "from lenstronomy.Sampling.parameters import Param\n",
    "# make instance of parameter class with given model options, constraints and fixed parameters #\n",
    "\n",
    "param = Param(kwargs_model, kwargs_fixed_lens=[{'gamma': 2}, {'ra_0': 0, 'dec_0': 0}],\n",
    "               kwargs_fixed_lens_light=[{}], kwargs_fixed_source=[{}], kwargs_fixed_ps=[{}], **kwargs_constraints)"
   ]
  },
  {
   "cell_type": "code",
   "execution_count": 3,
   "id": "3fd2f7fd-1f5c-430b-9a04-b78fb1bd5bfc",
   "metadata": {
    "execution": {
     "iopub.execute_input": "2025-05-02T01:32:22.730680Z",
     "iopub.status.busy": "2025-05-02T01:32:22.729861Z",
     "iopub.status.idle": "2025-05-02T01:35:29.575039Z",
     "shell.execute_reply": "2025-05-02T01:35:29.574496Z"
    },
    "papermill": {
     "duration": 186.853287,
     "end_time": "2025-05-02T01:35:29.578197",
     "exception": false,
     "start_time": "2025-05-02T01:32:22.724910",
     "status": "completed"
    },
    "tags": []
   },
   "outputs": [
    {
     "name": "stderr",
     "output_type": "stream",
     "text": [
      "WARNING:root:Too few points to create valid contours\n"
     ]
    },
    {
     "data": {
      "image/png": "[encoded data removed]",
      "text/plain": [
       "<Figure size 550x550 with 4 Axes>"
      ]
     },
     "metadata": {},
     "output_type": "display_data"
    }
   ],
   "source": [
    "import numpy as np\n",
    "import corner\n",
    "\n",
    "dphi_list = []\n",
    "dt_list = []\n",
    "mcmc_new_list = []\n",
    "labels_new = [r\"$\\Delta \\Phi_{AB}$\", r\"$\\Delta t_{AB}$\"]\n",
    "\n",
    "for i in range(len(samples_mcmc)):\n",
    "    # Convert MCMC sample to kwargs\n",
    "    kwargs_result = param.args2kwargs(samples_mcmc[i])\n",
    "\n",
    "    # Compute Fermat potential\n",
    "    fermat_pot = td_cosmo.fermat_potential(kwargs_result['kwargs_lens'], kwargs_result['kwargs_ps'])\n",
    "    delta_fermat_12 = fermat_pot[0] - fermat_pot[1]\n",
    "\n",
    "    # Compute time delays\n",
    "    t_days = td_cosmo.time_delays(kwargs_result['kwargs_lens'], kwargs_result['kwargs_ps'], kappa_ext=0)\n",
    "    dt = t_days[0] - t_days[1]  # scalar value\n",
    "\n",
    "    # Store values\n",
    "    mcmc_new_list.append([delta_fermat_12, dt])\n",
    "    dphi_list.append(delta_fermat_12)\n",
    "    dt_list.append(dt)\n",
    "\n",
    "# Plot corner plot\n",
    "plot = corner.corner(np.array(mcmc_new_list), labels=labels_new, show_titles=True)"
   ]
  },
  {
   "cell_type": "code",
   "execution_count": 4,
   "id": "a04c8f7a-e89a-4870-8cc2-93370252a142",
   "metadata": {
    "execution": {
     "iopub.execute_input": "2025-05-02T01:35:29.589122Z",
     "iopub.status.busy": "2025-05-02T01:35:29.588879Z",
     "iopub.status.idle": "2025-05-02T01:35:29.629055Z",
     "shell.execute_reply": "2025-05-02T01:35:29.627924Z"
    },
    "papermill": {
     "duration": 0.047746,
     "end_time": "2025-05-02T01:35:29.631227",
     "exception": false,
     "start_time": "2025-05-02T01:35:29.583481",
     "status": "completed"
    },
    "tags": []
   },
   "outputs": [],
   "source": [
    "# save the final products in HDF5 format\n",
    "with h5py.File(f'cutout_data/{name}/{filter}/{name}_{filter}_cosmo.hdf5', 'w') as f:\n",
    "            f.create_dataset('dphi_list', data=np.array(dphi_list))\n",
    "            f.create_dataset('dt_list', data=np.array(dt_list))\n"
   ]
  },
  {
   "cell_type": "code",
   "execution_count": null,
   "id": "fd94e0bf-ca58-4008-a572-862cf2a53eea",
   "metadata": {
    "papermill": {
     "duration": 0.003877,
     "end_time": "2025-05-02T01:35:29.640010",
     "exception": false,
     "start_time": "2025-05-02T01:35:29.636133",
     "status": "completed"
    },
    "tags": []
   },
   "outputs": [],
   "source": []
  }
 ],
 "metadata": {
  "kernelspec": {
   "display_name": "Python 3 (ipykernel)",
   "language": "python",
   "name": "python3"
  },
  "language_info": {
   "codemirror_mode": {
    "name": "ipython",
    "version": 3
   },
   "file_extension": ".py",
   "mimetype": "text/x-python",
   "name": "python",
   "nbconvert_exporter": "python",
   "pygments_lexer": "ipython3",
   "version": "3.12.2"
  },
  "papermill": {
   "default_parameters": {},
   "duration": 229.049535,
   "end_time": "2025-05-02T01:35:30.363766",
   "environment_variables": {},
   "exception": null,
   "input_path": "cosmology.ipynb",
   "output_path": "cutout_data/J0806+2006/F814W/cosmo_J0806+2006.ipynb",
   "parameters": {
    "name": "J0806+2006",
    "z_lens": 0.573,
    "z_source": 1.54
   },
   "start_time": "2025-05-02T01:31:41.314231",
   "version": "2.6.0"
  }
 },
 "nbformat": 4,
 "nbformat_minor": 5
}